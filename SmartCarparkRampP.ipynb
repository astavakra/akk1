{
 "cells": [
  {
   "cell_type": "code",
   "execution_count": 23,
   "metadata": {},
   "outputs": [
    {
     "name": "stdout",
     "output_type": "stream",
     "text": [
      "[[ 0.71914429  0.94902044  0.82445013  0.22350812  0.35574958  0.5541106\n",
      "   0.81525204  0.30924394  0.17920346  0.10448906]\n",
      " [ 0.80218422  0.60187458  0.00895282  0.51534695  0.29701128  0.92411375\n",
      "   0.001657    0.64159632  0.03158822  0.85640066]\n",
      " [ 0.67515874  0.14127519  0.96350527  0.86276119  0.4237085   0.41044828\n",
      "   0.14033586  0.09234581  0.6524119   0.52782004]\n",
      " [ 0.09147296  0.35477712  0.37233583  0.48197257  0.54991115  0.28702947\n",
      "   0.7792069   0.43949934  0.11627673  0.54503358]\n",
      " [ 0.08853887  0.99878544  0.42022526  0.9075292   0.50994394  0.10938874\n",
      "   0.67600786  0.13080726  0.5963369   0.66958918]\n",
      " [ 0.18247275  0.7049052   0.79147997  0.52653669  0.37867036  0.74484985\n",
      "   0.92420431  0.67604036  0.21258321  0.35930522]\n",
      " [ 0.9114914   0.54898909  0.37468528  0.35321981  0.36193651  0.08882793\n",
      "   0.94636659  0.89621529  0.29958013  0.32335965]\n",
      " [ 0.08286757  0.22820586  0.55943435  0.77139161  0.91954927  0.79727777\n",
      "   0.18059055  0.66624557  0.68178861  0.1400716 ]\n",
      " [ 0.06802743  0.06362441  0.35147905  0.23315243  0.04155199  0.5055507\n",
      "   0.36688735  0.72818245  0.93883651  0.26038546]\n",
      " [ 0.08449621  0.01676105  0.12417141  0.86955764  0.37882543  0.46853389\n",
      "   0.18000812  0.96252914  0.20127358  0.82375055]]\n"
     ]
    },
    {
     "data": {
      "image/png": "[encoded data removed]",
      "text/plain": [
       "<matplotlib.figure.Figure at 0xbd49940>"
      ]
     },
     "metadata": {},
     "output_type": "display_data"
    },
    {
     "name": "stdout",
     "output_type": "stream",
     "text": [
      "[[ 0.8  0.8  0.8  0.8  0.8  0.8  0.8  0.8  0.8  0.8]\n",
      " [ 0.8  0.8  0.8  0.8  0.8  0.8  0.8  0.8  0.8  0.8]\n",
      " [ 0.8  0.8  0.8  0.8  0.8  0.8  0.8  0.8  0.8  0.8]\n",
      " [ 0.8  0.8  0.8  0.8  0.8  0.8  0.8  0.8  0.8  0.8]\n",
      " [ 0.8  0.8  0.8  0.8  0.8  0.8  0.8  0.8  0.8  0.8]\n",
      " [ 0.8  0.8  0.8  0.8  0.8  0.8  0.8  0.8  0.8  0.8]\n",
      " [ 0.8  0.8  0.8  0.8  0.8  0.8  0.8  0.8  0.8  0.8]\n",
      " [ 0.8  0.8  0.8  0.8  0.8  0.8  0.8  0.8  0.8  0.8]\n",
      " [ 0.8  0.8  0.8  0.8  0.8  0.8  0.8  0.8  0.8  0.8]\n",
      " [ 0.8  0.8  0.8  0.8  0.8  0.8  0.8  0.8  0.8  0.8]]\n"
     ]
    },
    {
     "data": {
      "text/plain": [
       "<matplotlib.figure.Figure at 0xc41ba20>"
      ]
     },
     "metadata": {},
     "output_type": "display_data"
    },
    {
     "data": {
      "image/png": "[encoded data removed]",
      "text/plain": [
       "<matplotlib.figure.Figure at 0xc446f98>"
      ]
     },
     "metadata": {},
     "output_type": "display_data"
    },
    {
     "data": {
      "image/png": "[encoded data removed]",
      "text/plain": [
       "<matplotlib.figure.Figure at 0xc51c710>"
      ]
     },
     "metadata": {},
     "output_type": "display_data"
    },
    {
     "data": {
      "image/png": "[encoded data removed]",
      "text/plain": [
       "<matplotlib.figure.Figure at 0xc3a4f60>"
      ]
     },
     "metadata": {},
     "output_type": "display_data"
    },
    {
     "data": {
      "image/png": "[encoded data removed]",
      "text/plain": [
       "<matplotlib.figure.Figure at 0xbcec198>"
      ]
     },
     "metadata": {},
     "output_type": "display_data"
    },
    {
     "data": {
      "image/png": "[encoded data removed]",
      "text/plain": [
       "<matplotlib.figure.Figure at 0xc433ba8>"
      ]
     },
     "metadata": {},
     "output_type": "display_data"
    }
   ],
   "source": [
    "import numpy as np\n",
    "import matplotlib.pyplot as pl\n",
    "\n",
    "import pandas as pd\n",
    "\n",
    "%matplotlib inline\n",
    "\n",
    "\n",
    "#Defining a carpark Physcial layout is 10 x 10 matrix of 100 cares\n",
    "\n",
    "cp =np.zeros(shape=(10,10))\n",
    "soccp =np.random.rand(10,10)\n",
    "print(soccp)\n",
    "fig, ax = pl.subplots()\n",
    "ax.imshow(soccp, cmap=pl.cm.PiYG,interpolation='nearest')\n",
    "\n",
    "numrows, numcols = soccp.shape\n",
    "\n",
    "def setnocar(e):\n",
    "    if e >= 50: \n",
    "        print(\"50 % car park is empyt\")\n",
    "    else:\n",
    "        print(\"Car park has %f epmpty places\")\n",
    "\n",
    "\n",
    "def format_coord(x, y):\n",
    "    col = int(x + 0.5)\n",
    "    row = int(y + 0.5)\n",
    "    if col >= 0 and col < numcols and row >= 0 and row < numrows:\n",
    "        z = X[row, col]\n",
    "        return 'x=%1.4f, y=%1.4f, z=%1.4f' % (x, y, z)\n",
    "    else:\n",
    "        return 'x=%1.4f, y=%1.4f' % (x, y)\n",
    "pl.rc('font',size=15)\n",
    "ax.format_coord = format_coord\n",
    "\n",
    "pl.show()\n",
    "\n",
    "def soccharg(soc0,p):\n",
    "    c1=soc0\n",
    "    pc=p\n",
    "    if c1 <0.8:\n",
    "        c2 = c1 + p*0.04\n",
    "    elif c1 >=0.8:\n",
    "        c2 = 0.8\n",
    "    else:\n",
    "        c2 = c1\n",
    "    return c2\n",
    "\n",
    "cp=soccp\n",
    "for t in range(5):\n",
    "    for cc in range(numcols):\n",
    "        for rr in range(numrows):\n",
    "            cp[rr][cc] = soccharg(cp[rr][cc],6.2)\n",
    "    fig =pl.figure(t)\n",
    "    fig, ax = pl.subplots()\n",
    "    pl.rc('font',size=15)\n",
    "    ax.imshow(cp, cmap=pl.cm.PiYG,interpolation='nearest')\n",
    "    ax.format_coord = format_coord\n",
    "\n",
    "        \n",
    "        \n",
    "#fig, ax = pl.subplots()\n",
    "#pl.rc('font',size=15)\n",
    "#ax.imshow(cp, interpolation='nearest')\n",
    "#ax.format_coord = format_coord\n",
    "print(cp)\n"
   ]
  },
  {
   "cell_type": "code",
   "execution_count": 24,
   "metadata": {},
   "outputs": [
    {
     "name": "stdout",
     "output_type": "stream",
     "text": [
      "     pcost       dcost       gap    pres   dres   k/t\n",
      " 0: -5.2727e+00 -1.4182e+01  1e+01  5e-01  1e+00  1e+00\n",
      " 1: -5.9439e+00 -6.8717e+00  5e-01  7e-02  2e-01  4e-01\n",
      " 2: -5.9991e+00 -6.0109e+00  6e-03  8e-04  2e-03  4e-03\n",
      " 3: -6.0000e+00 -6.0001e+00  6e-05  8e-06  2e-05  4e-05\n",
      " 4: -6.0000e+00 -6.0000e+00  6e-07  8e-08  2e-07  4e-07\n",
      " 5: -6.0000e+00 -6.0000e+00  6e-09  8e-10  2e-09  4e-09\n",
      "Optimal solution found.\n",
      "[ 1.50e+00]\n",
      "[-6.78e-11]\n",
      "\n"
     ]
    }
   ],
   "source": [
    "from cvxopt import matrix, solvers\n",
    "c = matrix([-4., -5.])\n",
    "G = matrix([[2., 2., -1., 0.], [1., 5., 0., -1.]])\n",
    "h = matrix([3., 3., 0., 0.])\n",
    "sol = solvers.lp(c, G, h)\n",
    "print(sol['x'])"
   ]
  }
 ],
 "metadata": {
  "kernelspec": {
   "display_name": "Python [conda env:Anaconda3]",
   "language": "python",
   "name": "conda-env-Anaconda3-py"
  },
  "language_info": {
   "codemirror_mode": {
    "name": "ipython",
    "version": 3
   },
   "file_extension": ".py",
   "mimetype": "text/x-python",
   "name": "python",
   "nbconvert_exporter": "python",
   "pygments_lexer": "ipython3",
   "version": "3.5.4"
  }
 },
 "nbformat": 4,
 "nbformat_minor": 2
}
